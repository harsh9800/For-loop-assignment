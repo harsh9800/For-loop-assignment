{
 "cells": [
  {
   "cell_type": "code",
   "execution_count": null,
   "id": "16c923b8-8aba-4b9e-b0eb-59093b133b64",
   "metadata": {},
   "outputs": [],
   "source": [
    "#Basic Level:"
   ]
  },
  {
   "cell_type": "code",
   "execution_count": 1,
   "id": "d793ab81-64ef-42ef-a1dd-1e737e27ef8d",
   "metadata": {},
   "outputs": [],
   "source": [
    "#1. Write a Python program to print the numbers from 1 to 10 using a `for` loop."
   ]
  },
  {
   "cell_type": "code",
   "execution_count": 1,
   "id": "0e58b7b8-e8ea-49d0-8cf5-6efeda7917d8",
   "metadata": {},
   "outputs": [
    {
     "name": "stdout",
     "output_type": "stream",
     "text": [
      "1\n",
      "2\n",
      "3\n",
      "4\n",
      "5\n",
      "6\n",
      "7\n",
      "8\n",
      "9\n",
      "10\n"
     ]
    }
   ],
   "source": [
    "for i in range(1,11):\n",
    "    print(i)"
   ]
  },
  {
   "cell_type": "code",
   "execution_count": 2,
   "id": "168314b4-a0b6-4cdb-874e-27c8c7417b75",
   "metadata": {},
   "outputs": [],
   "source": [
    "#2. Create a program that calculates the sum of all numbers in a list using a `for` loop."
   ]
  },
  {
   "cell_type": "code",
   "execution_count": 3,
   "id": "d27d09b2-de9d-4725-b476-bcd63595f535",
   "metadata": {},
   "outputs": [
    {
     "name": "stdout",
     "output_type": "stream",
     "text": [
      "50\n"
     ]
    }
   ],
   "source": [
    "Sum=0\n",
    "list1=[5,10,15,20]\n",
    "for i in range(0,len(list1)):\n",
    "    Sum=Sum+list1[i]\n",
    "print(Sum)"
   ]
  },
  {
   "cell_type": "code",
   "execution_count": 4,
   "id": "71c2d62e-22f5-42f8-964d-80cc0c3c4800",
   "metadata": {},
   "outputs": [],
   "source": [
    "#3. Write a program to print the characters of a string in reverse order using a `for` loop."
   ]
  },
  {
   "cell_type": "code",
   "execution_count": 5,
   "id": "b8db25f6-49ed-4dcd-98c3-26007cc7bccb",
   "metadata": {},
   "outputs": [
    {
     "name": "stdout",
     "output_type": "stream",
     "text": [
      "H S R A H "
     ]
    }
   ],
   "source": [
    "string=\"HARSH\"\n",
    "for i in range(4,-1,-1):\n",
    "    b=string[i]\n",
    "    print(b,end=\" \")"
   ]
  },
  {
   "cell_type": "code",
   "execution_count": 6,
   "id": "9106e77a-6cb9-4242-9379-abd23a5c9277",
   "metadata": {},
   "outputs": [],
   "source": [
    "#4. Develop a program that finds the factorial of a given number using a `for` loop."
   ]
  },
  {
   "cell_type": "code",
   "execution_count": 8,
   "id": "a8423a45-790b-481a-afea-cb5fd4f70bb7",
   "metadata": {},
   "outputs": [
    {
     "name": "stdin",
     "output_type": "stream",
     "text": [
      "Enter the number: 5\n"
     ]
    },
    {
     "name": "stdout",
     "output_type": "stream",
     "text": [
      "5!=120\n"
     ]
    }
   ],
   "source": [
    "Factorial=1\n",
    "x=int(input(\"Enter the number:\"))\n",
    "for i in range(1,x+1):\n",
    "    Factorial=Factorial*i\n",
    "print(f\"{x}!={Factorial}\")"
   ]
  },
  {
   "cell_type": "code",
   "execution_count": 83,
   "id": "092aa2f9-42ba-43c7-85b4-0ee8c2b3ecf7",
   "metadata": {},
   "outputs": [],
   "source": [
    "#5. Create a program to print the multiplication table of a given number using a `for` loop."
   ]
  },
  {
   "cell_type": "code",
   "execution_count": 9,
   "id": "42a7a220-e139-405c-b6b7-254628cbd1b6",
   "metadata": {},
   "outputs": [
    {
     "name": "stdin",
     "output_type": "stream",
     "text": [
      "Enter the no: 7\n"
     ]
    },
    {
     "name": "stdout",
     "output_type": "stream",
     "text": [
      "7\n",
      "14\n",
      "21\n",
      "28\n",
      "35\n",
      "42\n",
      "49\n",
      "56\n",
      "63\n",
      "70\n"
     ]
    }
   ],
   "source": [
    "x=int(input(\"Enter the no:\"))\n",
    "for i in range(1,11):\n",
    "    multiply=x*i\n",
    "    print(multiply)"
   ]
  },
  {
   "cell_type": "code",
   "execution_count": 86,
   "id": "3c69f4e5-053f-4116-84b1-16aee1df1d66",
   "metadata": {},
   "outputs": [],
   "source": [
    "#6. Write a program that counts the number of even and odd numbers in a list using a `for` loop."
   ]
  },
  {
   "cell_type": "code",
   "execution_count": 10,
   "id": "6a44c6b6-7a58-4fa0-acda-07ab2b6bcaab",
   "metadata": {},
   "outputs": [
    {
     "name": "stdout",
     "output_type": "stream",
     "text": [
      "Even count:5 Odd count:8\n"
     ]
    }
   ],
   "source": [
    "even,odd=0,0\n",
    "list2=[2,4,6,8,10,5,5,5,5,5,5,5,5]\n",
    "for i in list2:\n",
    "    if i%2==0:\n",
    "        even=even+1\n",
    "    else:\n",
    "        odd=odd+1\n",
    "print(f\"Even count:{even} Odd count:{odd}\")"
   ]
  },
  {
   "cell_type": "code",
   "execution_count": 33,
   "id": "76afe497-07ba-4051-9876-892abd7887b1",
   "metadata": {},
   "outputs": [],
   "source": [
    "#7. Develop a program that prints the squares of numbers from 1 to 5 using a `for` loop."
   ]
  },
  {
   "cell_type": "code",
   "execution_count": 11,
   "id": "4121b375-d629-481a-b8c9-8615b8a3c762",
   "metadata": {},
   "outputs": [
    {
     "name": "stdout",
     "output_type": "stream",
     "text": [
      "1\n",
      "4\n",
      "9\n",
      "16\n",
      "25\n"
     ]
    }
   ],
   "source": [
    "list3=[1,2,3,4,5]\n",
    "for i in list3:\n",
    "    Square=i**2\n",
    "    print(Square)"
   ]
  },
  {
   "cell_type": "code",
   "execution_count": 36,
   "id": "164363b4-96d3-4998-82a2-0c2cc5a7d16d",
   "metadata": {},
   "outputs": [],
   "source": [
    "#8. Create a program to find the length of a string without using the `len()` function."
   ]
  },
  {
   "cell_type": "code",
   "execution_count": 12,
   "id": "babe7001-0b34-45a1-8967-4c42c8bdab8b",
   "metadata": {},
   "outputs": [
    {
     "name": "stdin",
     "output_type": "stream",
     "text": [
      "Enter the string: harsh\n"
     ]
    },
    {
     "name": "stdout",
     "output_type": "stream",
     "text": [
      "Length of string=5\n"
     ]
    }
   ],
   "source": [
    "Length=0\n",
    "x=input(\"Enter the string:\")\n",
    "for i in x:\n",
    "    Length+=1\n",
    "print(f\"Length of string={Length}\")"
   ]
  },
  {
   "cell_type": "code",
   "execution_count": 58,
   "id": "a393de2e-991f-4f24-bf12-92db5c049828",
   "metadata": {},
   "outputs": [],
   "source": [
    "#9. Write a program that calculates the average of a list of numbers using a `for` loop."
   ]
  },
  {
   "cell_type": "code",
   "execution_count": 13,
   "id": "fa87b8f8-6494-4594-84ca-a36288ca2be2",
   "metadata": {},
   "outputs": [
    {
     "name": "stdout",
     "output_type": "stream",
     "text": [
      "Average of list4 is 15.0\n"
     ]
    }
   ],
   "source": [
    "Sum=0\n",
    "list4=[5,10,15,20,25]\n",
    "for i in range(0,len(list4)):\n",
    "    Sum=Sum+list4[i]\n",
    "    Average=Sum/len(list4)\n",
    "print(f\"Average of list4 is {Average}\")"
   ]
  },
  {
   "cell_type": "code",
   "execution_count": 64,
   "id": "9924cbcc-e1a5-43ff-9732-b804bb78be2c",
   "metadata": {},
   "outputs": [],
   "source": [
    "#10. Develop a program that prints the first `n` Fibonacci numbers using a `for` loop."
   ]
  },
  {
   "cell_type": "code",
   "execution_count": 14,
   "id": "048c6343-c88f-414f-8156-071f5d7f2dd9",
   "metadata": {},
   "outputs": [
    {
     "name": "stdout",
     "output_type": "stream",
     "text": [
      "0\n",
      "1\n",
      "1\n",
      "2\n",
      "3\n",
      "5\n",
      "8\n",
      "13\n",
      "21\n",
      "34\n"
     ]
    }
   ],
   "source": [
    "x=0\n",
    "y=1\n",
    "print(x)\n",
    "print(y)\n",
    "for i in range(1,9):\n",
    "    z=x+y\n",
    "    print(z)\n",
    "    x,y=y,z"
   ]
  },
  {
   "cell_type": "code",
   "execution_count": 9,
   "id": "be188f0e-f161-4b3e-a3ae-31ce732b2636",
   "metadata": {},
   "outputs": [],
   "source": [
    "#Intermediate Level:"
   ]
  },
  {
   "cell_type": "code",
   "execution_count": 10,
   "id": "7046113a-9cbc-4ef3-a47d-e3b35d1f28f5",
   "metadata": {},
   "outputs": [],
   "source": [
    "#11. Write a program to check if a given list contains any duplicates using a `for` loop."
   ]
  },
  {
   "cell_type": "code",
   "execution_count": 13,
   "id": "020cb804-a50a-4449-a11f-55b97d57561f",
   "metadata": {},
   "outputs": [
    {
     "name": "stdout",
     "output_type": "stream",
     "text": [
      "Contain duplicate\n",
      "Contain duplicate\n",
      "Contain duplicate\n",
      "Contain duplicate\n"
     ]
    }
   ],
   "source": [
    "list1 = [1,2,3,1,2]\n",
    "\n",
    "\n",
    "\n",
    "for i in list1:\n",
    "    count=-1\n",
    "    for j in list1:\n",
    "        if i==j:\n",
    "            count+=1\n",
    "        if count > 0:\n",
    "            print('Contain duplicate')\n",
    "            break"
   ]
  },
  {
   "cell_type": "code",
   "execution_count": null,
   "id": "107b5e1d-2b02-43e8-bd44-10ec665ef116",
   "metadata": {},
   "outputs": [],
   "source": [
    "iteration-1\n",
    "\n",
    "i=1\n",
    "count=-1\n",
    "j=1\n",
    "count=0\n",
    "'will not go in if condition because count is not greater than 0'\n",
    "\n",
    "i=1\n",
    "j=2\n",
    "\n",
    "i=1\n",
    "j=3\n",
    "\n",
    "i=1\n",
    "j=1\n",
    "count=1\n",
    "\n",
    "\n",
    "i=1\n",
    "j=2\n",
    "\n",
    "\n",
    "\n",
    "i=2\n"
   ]
  },
  {
   "cell_type": "code",
   "execution_count": 28,
   "id": "dd48e2af-f9e3-49d9-ad17-195e47b3338a",
   "metadata": {},
   "outputs": [],
   "source": [
    "#12. Create a program that prints the prime numbers in a given range using a `for` loop."
   ]
  },
  {
   "cell_type": "code",
   "execution_count": 27,
   "id": "a86fc851-eb53-4fbb-a557-53c8e215ae20",
   "metadata": {},
   "outputs": [
    {
     "name": "stdout",
     "output_type": "stream",
     "text": [
      "[]\n",
      "2 a prime number\n",
      "[True]\n",
      "3 a prime number\n",
      "[False, True]\n",
      "[True, True, True]\n",
      "5 a prime number\n",
      "[False, False, True, True]\n",
      "[True, True, True, True, True]\n",
      "7 a prime number\n",
      "[False, True, False, True, True, True]\n",
      "[True, False, True, True, True, True, True]\n"
     ]
    }
   ],
   "source": [
    "n = 10\n",
    "\n",
    "\n",
    "for i in range(2, n):\n",
    "    list1 = []\n",
    "    for j in range(2, i):\n",
    "        if i%j==0:\n",
    "            list1.append(False)\n",
    "        else:\n",
    "            list1.append(True)\n",
    "    print(list1)\n",
    "    if all(list1):\n",
    "        print(i, 'a prime number')\n",
    "            \n",
    "        "
   ]
  },
  {
   "cell_type": "code",
   "execution_count": 35,
   "id": "4153e9ca-e746-485b-9046-10daeb0b5afc",
   "metadata": {},
   "outputs": [],
   "source": [
    "#13. Develop a program that counts the number of vowels in a string using a `for` loop."
   ]
  },
  {
   "cell_type": "code",
   "execution_count": 175,
   "id": "32fc9bfd-f8ee-4710-a373-512ee29779d9",
   "metadata": {},
   "outputs": [
    {
     "name": "stdin",
     "output_type": "stream",
     "text": [
      "Enter a string HARSH VISHNOI\n"
     ]
    },
    {
     "name": "stdout",
     "output_type": "stream",
     "text": [
      "Vowel count in string=4\n"
     ]
    }
   ],
   "source": [
    "count=0\n",
    "vowel=[\"a\",\"e\",\"i\",\"o\",\"u\"]\n",
    "string=input(\"Enter a string\").lower()\n",
    "for i in vowel:\n",
    "    for j in string:\n",
    "        if i==j:\n",
    "            count+=1\n",
    "print(f\"Vowel count in string={count}\")"
   ]
  },
  {
   "cell_type": "code",
   "execution_count": 176,
   "id": "4e3524a8-34fa-4682-b73a-616b60c8e127",
   "metadata": {},
   "outputs": [],
   "source": [
    "#14. Write a program to find the maximum element in a 2D list using a nested `for` loop."
   ]
  },
  {
   "cell_type": "code",
   "execution_count": 1,
   "id": "90adf8e7-4cf5-4f9e-ad3c-f6a615b39326",
   "metadata": {},
   "outputs": [],
   "source": [
    "list1=[1,2,3,4,['harsh','vishnoi']]"
   ]
  },
  {
   "cell_type": "code",
   "execution_count": 2,
   "id": "ff13fc66-fc0f-4e6f-b468-59206c68b605",
   "metadata": {},
   "outputs": [],
   "source": [
    "#15. Create a program that removes all occurrences of a specific element from a list using a `for` loop."
   ]
  },
  {
   "cell_type": "code",
   "execution_count": 13,
   "id": "44a05a80-6140-4ecb-a386-84c635afbc28",
   "metadata": {},
   "outputs": [
    {
     "data": {
      "text/plain": [
       "[1, 2, 3, 4, 5, 6, 7, 8, 9, 'harsh', 4, 3]"
      ]
     },
     "execution_count": 13,
     "metadata": {},
     "output_type": "execute_result"
    }
   ],
   "source": [
    "list1=[1,2,3,4,5,6,7,8,9,\"harsh\",\"vishnoi\",\"vishnoi\",\"vishnoi\", 4, 3]\n",
    "list2=[]\n",
    "for i in list1:\n",
    "    if i!=\"vishnoi\":\n",
    "        list2.append(i)\n",
    "list2"
   ]
  },
  {
   "cell_type": "code",
   "execution_count": null,
   "id": "ab5ac309-c13e-4d3e-83ff-4889e3c57623",
   "metadata": {},
   "outputs": [],
   "source": [
    "list1=[1,2,3,4,5,6,7,8,9,\"harsh\", \"vishnoi\", 4, 3]\n"
   ]
  },
  {
   "cell_type": "code",
   "execution_count": 48,
   "id": "34822acd-6f51-41fb-91b1-b0a8be651713",
   "metadata": {},
   "outputs": [],
   "source": [
    "#16. Develop a program that generates a multiplication table for numbers from 1 to 5 using a nested `for` loop."
   ]
  },
  {
   "cell_type": "code",
   "execution_count": 72,
   "id": "43ddaa7d-5dde-457f-92fc-35a7f1599822",
   "metadata": {},
   "outputs": [
    {
     "name": "stdout",
     "output_type": "stream",
     "text": [
      "1\n",
      "2\n",
      "3\n",
      "4\n",
      "5\n",
      "6\n",
      "7\n",
      "8\n",
      "9\n",
      "10\n",
      "\n",
      "2\n",
      "4\n",
      "6\n",
      "8\n",
      "10\n",
      "12\n",
      "14\n",
      "16\n",
      "18\n",
      "20\n",
      "\n",
      "3\n",
      "6\n",
      "9\n",
      "12\n",
      "15\n",
      "18\n",
      "21\n",
      "24\n",
      "27\n",
      "30\n",
      "\n",
      "4\n",
      "8\n",
      "12\n",
      "16\n",
      "20\n",
      "24\n",
      "28\n",
      "32\n",
      "36\n",
      "40\n",
      "\n",
      "5\n",
      "10\n",
      "15\n",
      "20\n",
      "25\n",
      "30\n",
      "35\n",
      "40\n",
      "45\n",
      "50\n",
      "\n"
     ]
    }
   ],
   "source": [
    "for i in range(1,6):\n",
    "    for j in range(1,11):\n",
    "        Table=i*j\n",
    "        print(Table)\n",
    "    print()"
   ]
  },
  {
   "cell_type": "code",
   "execution_count": 73,
   "id": "53910fb1-9760-434c-8320-36bd2eea8d67",
   "metadata": {},
   "outputs": [],
   "source": [
    "#17. Write a program that converts a list of Fahrenheit temperatures to Celsius using a `for` loop."
   ]
  },
  {
   "cell_type": "code",
   "execution_count": 82,
   "id": "a31f549e-e3fc-4ec2-890b-b35b277763d1",
   "metadata": {},
   "outputs": [
    {
     "name": "stdout",
     "output_type": "stream",
     "text": [
      "Temperature in farenheit:-15.0\n",
      "Temperature in farenheit:-12.222222222222221\n",
      "Temperature in farenheit:-9.444444444444445\n",
      "Temperature in farenheit:-6.666666666666667\n",
      "Temperature in farenheit:-3.888888888888889\n",
      "Temperature in farenheit:-1.1111111111111112\n"
     ]
    }
   ],
   "source": [
    "list2=[5,10,15,20,25,30]\n",
    "for f in list2:\n",
    "    C=(f-32)*5/9\n",
    "    print(f\"Temperature in farenheit:{C}\")"
   ]
  },
  {
   "cell_type": "code",
   "execution_count": 84,
   "id": "26e3ba14-1000-4e14-a098-2113af506996",
   "metadata": {},
   "outputs": [],
   "source": [
    "#18. Create a program to print the common elements from two lists using a `for` loop."
   ]
  },
  {
   "cell_type": "code",
   "execution_count": 88,
   "id": "ba90871c-e699-42db-9dbf-58796ffe18d1",
   "metadata": {},
   "outputs": [
    {
     "name": "stdout",
     "output_type": "stream",
     "text": [
      "Vishnoi\n",
      "2\n"
     ]
    }
   ],
   "source": [
    "list1=[\"Harsh\",\"Vishnoi\",2]\n",
    "list2=[2,\"Manish\",\"Vishnoi\"]\n",
    "for i in list1:\n",
    "    for j in list2:\n",
    "        if i==j:\n",
    "            print(i)"
   ]
  },
  {
   "cell_type": "code",
   "execution_count": 89,
   "id": "0ec1dc18-e7de-4a29-8f98-fbdce61e31d8",
   "metadata": {},
   "outputs": [],
   "source": [
    "#19. Develop a program that prints the pattern of right-angled triangles using a `for` loop. Use ‘*’ to draw the pattern"
   ]
  },
  {
   "cell_type": "code",
   "execution_count": 99,
   "id": "f45a522f-7c39-486b-9d3a-85ca28177c53",
   "metadata": {},
   "outputs": [
    {
     "name": "stdout",
     "output_type": "stream",
     "text": [
      "O \n",
      "O O \n",
      "O O O \n",
      "O O O O \n",
      "O O O O O \n"
     ]
    }
   ],
   "source": [
    "for i in range(1,6):\n",
    "    for j in range(i):\n",
    "        print(\"O\",end=\" \")\n",
    "    print()"
   ]
  },
  {
   "cell_type": "code",
   "execution_count": 100,
   "id": "30a8d5fb-d991-4af1-b4d9-c480a54b11c2",
   "metadata": {},
   "outputs": [],
   "source": [
    "#20. Write a program to find the greatest common divisor (GCD) of two numbers using a `for` loop."
   ]
  },
  {
   "cell_type": "code",
   "execution_count": 43,
   "id": "0d48c3d9-dbb3-46c1-a40c-88cf6aee73dd",
   "metadata": {},
   "outputs": [
    {
     "name": "stdin",
     "output_type": "stream",
     "text": [
      "Enter the number: 30\n",
      "Enter the number but greater than before: 60\n"
     ]
    },
    {
     "name": "stdout",
     "output_type": "stream",
     "text": [
      "\n",
      "\n",
      "Common factors of 30 and 60:\n",
      "1\n",
      "2\n",
      "3\n",
      "5\n",
      "6\n",
      "10\n",
      "15\n",
      "30\n",
      "\n",
      "\n",
      "Greatest common factor:\n"
     ]
    },
    {
     "data": {
      "text/plain": [
       "30"
      ]
     },
     "execution_count": 43,
     "metadata": {},
     "output_type": "execute_result"
    }
   ],
   "source": [
    "x,y=int(input(\"Enter the number:\")),int(input(\"Enter the number but greater than before:\"))\n",
    "list1=[]\n",
    "print(\"\\n\")\n",
    "print(f\"Common factors of {x} and {y}:\")\n",
    "for j in range(1,y+1):\n",
    "    if x%j==y%j==0:\n",
    "        print(j)\n",
    "        list1.append(j)\n",
    "print(\"\\n\")\n",
    "print(\"Greatest common factor:\")\n",
    "list1[len(list1)-1]"
   ]
  },
  {
   "cell_type": "code",
   "execution_count": 81,
   "id": "c746bf09-96a5-41c1-a766-55917a0e10cc",
   "metadata": {},
   "outputs": [],
   "source": [
    "#21. Create a program that calculates the sum of the digits of numbers in a list using a list comprehension."
   ]
  },
  {
   "cell_type": "code",
   "execution_count": 103,
   "id": "01fc14ac-5d08-418f-a850-fb8ca4cf9e0a",
   "metadata": {},
   "outputs": [
    {
     "name": "stdout",
     "output_type": "stream",
     "text": [
      "Sum of digits of number in list1: [10, 3, 5]\n"
     ]
    }
   ],
   "source": [
    "list1=[55,12,41]\n",
    "new_list=[]\n",
    "for i in list1:\n",
    "    Sum=0\n",
    "    for j in str(i):\n",
    "        Sum+=int(j)\n",
    "    new_list.append(Sum)\n",
    "print(f\"Sum of digits of number in list1: {new_list}\")"
   ]
  },
  {
   "cell_type": "code",
   "execution_count": 101,
   "id": "cc29efef-0bb6-419c-a3cb-7422363b4063",
   "metadata": {},
   "outputs": [],
   "source": [
    "#22. Write a program to find the prime factors of a given number using a `for` loop and list comprehension."
   ]
  },
  {
   "cell_type": "code",
   "execution_count": 21,
   "id": "7762c248-8005-404f-aec7-eb4de4101ac5",
   "metadata": {},
   "outputs": [
    {
     "name": "stdout",
     "output_type": "stream",
     "text": [
      "1\n",
      "3\n",
      "5\n",
      "15\n"
     ]
    }
   ],
   "source": [
    "x=15\n",
    "for i in range(1,16):\n",
    "    if x%i==0:\n",
    "        print(i)"
   ]
  },
  {
   "cell_type": "code",
   "execution_count": 1,
   "id": "ad6b5d36-bba3-4de5-92cb-43f4f4942090",
   "metadata": {},
   "outputs": [],
   "source": [
    "#23. Develop a program that extracts unique elements from a list and stores them in a new list using a list comprehension."
   ]
  },
  {
   "cell_type": "code",
   "execution_count": 2,
   "id": "821e0bef-8f28-4d3a-8cb7-b898d694681b",
   "metadata": {},
   "outputs": [
    {
     "data": {
      "text/plain": [
       "[2, 4, 6, 8, 10]"
      ]
     },
     "execution_count": 2,
     "metadata": {},
     "output_type": "execute_result"
    }
   ],
   "source": [
    "num_list=[1,2,3,4,5,6,7,8,9,10]\n",
    "even_list=[]\n",
    "for i in num_list:\n",
    "    if i%2==0:\n",
    "        even_list.append(i)\n",
    "even_list"
   ]
  },
  {
   "cell_type": "code",
   "execution_count": 3,
   "id": "9f712c76-bad3-41be-83ba-e30101c4f6bf",
   "metadata": {},
   "outputs": [],
   "source": [
    "#24. Create a program that generates a list of all palindromic numbers up to a specified limit using a list comprehension."
   ]
  },
  {
   "cell_type": "code",
   "execution_count": null,
   "id": "3d928a80-6915-4901-b299-704f92408258",
   "metadata": {},
   "outputs": [],
   "source": [
    "start=int(input(\"Start point:\"))\n",
    "end=int(input(\"End point:\"))\n",
    "palindromic_list=[]\n",
    "for i in range(start,end+1):\n",
    "    i = str(i)\n",
    "    if i[0::]==i[::-1]:\n",
    "            palindromic_list.append(int(i))\n",
    "palindromic_list"
   ]
  },
  {
   "cell_type": "code",
   "execution_count": 68,
   "id": "edd9c792-89d6-4fa3-a3dd-aeaabac4c085",
   "metadata": {},
   "outputs": [],
   "source": [
    "#25. Write a program to flatten a nested list using list comprehension."
   ]
  },
  {
   "cell_type": "code",
   "execution_count": 8,
   "id": "9c91278f-5428-44af-a10c-4528119b8caa",
   "metadata": {},
   "outputs": [
    {
     "data": {
      "text/plain": [
       "[1, 2, 3, 4, 'apple', 'mango', 'banana', 2.4, 3.6, 5.5]"
      ]
     },
     "execution_count": 8,
     "metadata": {},
     "output_type": "execute_result"
    }
   ],
   "source": [
    "nested_list=[[1,2,3,4],[\"apple\",\"mango\",\"banana\"],[2.4,3.6,5.5]]\n",
    "flatten_list=[]\n",
    "for i in nested_list:\n",
    "    for j in i:\n",
    "        flatten_list.append(j)\n",
    "flatten_list"
   ]
  },
  {
   "cell_type": "code",
   "execution_count": 66,
   "id": "81d9c22d-785f-4573-87b8-82970730d397",
   "metadata": {},
   "outputs": [],
   "source": [
    "#26. Develop a program that computes the sum of even and odd numbers in a list separately using list comprehension."
   ]
  },
  {
   "cell_type": "code",
   "execution_count": 73,
   "id": "c8ae2599-c718-499e-8b59-56ab9b4446be",
   "metadata": {},
   "outputs": [
    {
     "name": "stdout",
     "output_type": "stream",
     "text": [
      "Even no:\n",
      "2\n",
      "8\n",
      "4\n",
      "6\n",
      "0\n",
      "Sum of Even no:[20]\n",
      "\n",
      "\n",
      "Odd no:\n",
      "1\n",
      "5\n",
      "7\n",
      "9\n",
      "3\n",
      "Sum of Odd no:[25]\n"
     ]
    }
   ],
   "source": [
    "num_list=[1,2,5,8,7,4,9,6,3,0]\n",
    "Even_sum=0\n",
    "Odd_sum=0\n",
    "Even_Sum=[]\n",
    "Odd_Sum=[]\n",
    "print('Even no:')\n",
    "for i in num_list:\n",
    "    if i%2==0:\n",
    "        print(i)\n",
    "        Even_sum=Even_sum+i\n",
    "Even_Sum.append(Even_sum)\n",
    "print(f\"Sum of Even no:{Even_Sum}\")\n",
    "print(\"\\n\")\n",
    "print(\"Odd no:\")\n",
    "for i in num_list:\n",
    "    if i%2!=0:\n",
    "        print(i)\n",
    "        Odd_sum=Odd_sum+i\n",
    "Odd_Sum.append(Odd_sum)\n",
    "print(f\"Sum of Odd no:{Odd_Sum}\")"
   ]
  },
  {
   "cell_type": "code",
   "execution_count": 74,
   "id": "a1f726f6-2278-433b-9a88-5fe715bb29f1",
   "metadata": {},
   "outputs": [],
   "source": [
    "#27. Create a program that generates a list of squares of odd numbers between 1 and 10 using listcomprehension."
   ]
  },
  {
   "cell_type": "code",
   "execution_count": 75,
   "id": "c4efcdaf-11f7-401e-a2b5-b6b40d1231ad",
   "metadata": {},
   "outputs": [
    {
     "data": {
      "text/plain": [
       "[1, 9, 25, 49, 81]"
      ]
     },
     "execution_count": 75,
     "metadata": {},
     "output_type": "execute_result"
    }
   ],
   "source": [
    "Square_of_Odd_num=[]\n",
    "for i in range(1,11):\n",
    "    if i%2!=0:\n",
    "        sq=i**2\n",
    "        Square_of_Odd_num.append(sq)\n",
    "Square_of_Odd_num"
   ]
  },
  {
   "cell_type": "code",
   "execution_count": 76,
   "id": "5b55c62d-b8ee-4620-9bb0-a83efc6b41f5",
   "metadata": {},
   "outputs": [],
   "source": [
    "#28. Write a program that combines two lists into a dictionary using list comprehension."
   ]
  },
  {
   "cell_type": "code",
   "execution_count": 2,
   "id": "5372a019-9e7f-401b-98c6-5d69b670d8be",
   "metadata": {},
   "outputs": [],
   "source": [
    "list1=[\"Name\",\"Roll no\",\"Percentage\"]\n",
    "list2=[\"Harsh\",15,90.7]\n",
    "my_dict={}"
   ]
  },
  {
   "cell_type": "code",
   "execution_count": 3,
   "id": "a3d82b9c-83d1-4701-b558-2078301d61db",
   "metadata": {},
   "outputs": [],
   "source": [
    "for i, j in zip(list1, list2):\n",
    "    my_dict[i] = j"
   ]
  },
  {
   "cell_type": "code",
   "execution_count": 4,
   "id": "d78cc823-2990-40c7-b69f-d8e4a01c4f9d",
   "metadata": {},
   "outputs": [
    {
     "data": {
      "text/plain": [
       "{'Name': 'Harsh', 'Roll no': 15, 'Percentage': 90.7}"
      ]
     },
     "execution_count": 13,
     "metadata": {},
     "output_type": "execute_result"
    }
   ],
   "source": [
    "my_dict"
   ]
  },
  {
   "cell_type": "code",
   "execution_count": 17,
   "id": "4a434214-72e5-4d89-ab5a-8a62389aeaed",
   "metadata": {},
   "outputs": [
    {
     "data": {
      "text/plain": [
       "[{'Name': 'Harsh'}, {'Roll no': 15}, {'Percentage': 90.7}]"
      ]
     },
     "execution_count": 17,
     "metadata": {},
     "output_type": "execute_result"
    }
   ],
   "source": [
    "[{i: j} for i, j in zip(list1, list2)]"
   ]
  },
  {
   "cell_type": "code",
   "execution_count": 1,
   "id": "f8bb857a-fdc1-4f73-80f2-1a6ec297789b",
   "metadata": {},
   "outputs": [],
   "source": [
    "#29. Develop a program that extracts the vowels from a string and stores them in a list using list comprehension."
   ]
  },
  {
   "cell_type": "code",
   "execution_count": 13,
   "id": "59448f08-a452-4726-a06e-80ef68ecc37f",
   "metadata": {},
   "outputs": [
    {
     "name": "stdin",
     "output_type": "stream",
     "text": [
      "Enter a string: CONGRATULATION\n"
     ]
    },
    {
     "data": {
      "text/plain": [
       "['a', 'a', 'i', 'o', 'o', 'u']"
      ]
     },
     "execution_count": 13,
     "metadata": {},
     "output_type": "execute_result"
    }
   ],
   "source": [
    "x=input(\"Enter a string:\").lower()\n",
    "listv=[\"a\",\"e\",\"i\",\"o\",\"u\"]\n",
    "my_list=[i for i in listv for j in x if i==j]\n",
    "my_list"
   ]
  },
  {
   "cell_type": "code",
   "execution_count": 15,
   "id": "21705512-a1ce-4131-a08e-89f44f7cbdac",
   "metadata": {},
   "outputs": [
    {
     "data": {
      "text/plain": [
       "['o', 'a', 'u', 'a', 'i', 'o']"
      ]
     },
     "execution_count": 15,
     "metadata": {},
     "output_type": "execute_result"
    }
   ],
   "source": [
    "#my_list=[i for i in x for j in listv if i==j]\n",
    "#my_list"
   ]
  },
  {
   "cell_type": "code",
   "execution_count": 16,
   "id": "0979ad47-6749-493a-b468-2f35624569a7",
   "metadata": {},
   "outputs": [
    {
     "data": {
      "text/plain": [
       "['o', 'a', 'u', 'a', 'i', 'o']"
      ]
     },
     "execution_count": 16,
     "metadata": {},
     "output_type": "execute_result"
    }
   ],
   "source": [
    "#my_list=[i for i in x if i in listv]\n",
    "#my_list"
   ]
  },
  {
   "cell_type": "code",
   "execution_count": 27,
   "id": "0cdea120-667f-4141-85f4-2092f35f61f2",
   "metadata": {},
   "outputs": [],
   "source": [
    "#30. Create a program that removes all non-numeric characters from a list of strings using list comprehension."
   ]
  },
  {
   "cell_type": "code",
   "execution_count": 1,
   "id": "338f48ba-7c01-4300-8064-6dcfdd8ef4c1",
   "metadata": {},
   "outputs": [
    {
     "data": {
      "text/plain": [
       "['2', '4', '0']"
      ]
     },
     "execution_count": 1,
     "metadata": {},
     "output_type": "execute_result"
    }
   ],
   "source": [
    "list_1=[\"harsh\",\"cat\",\"dog\",\"2\",\"4\",\"0\"]\n",
    "list2=[]\n",
    "for i in list_1:\n",
    "    if i.isalpha() is False:\n",
    "        list2.append(i)\n",
    "list2"
   ]
  },
  {
   "cell_type": "code",
   "execution_count": 2,
   "id": "f3cc9355-9892-47cd-a016-84429fa0ac68",
   "metadata": {},
   "outputs": [],
   "source": [
    "#31. Write a program to generate a list of prime numbers using the Sieve of Eratosthenes algorithm and list comprehension."
   ]
  }
 ],
 "metadata": {
  "kernelspec": {
   "display_name": "Python 3 (ipykernel)",
   "language": "python",
   "name": "python3"
  },
  "language_info": {
   "codemirror_mode": {
    "name": "ipython",
    "version": 3
   },
   "file_extension": ".py",
   "mimetype": "text/x-python",
   "name": "python",
   "nbconvert_exporter": "python",
   "pygments_lexer": "ipython3",
   "version": "3.10.8"
  }
 },
 "nbformat": 4,
 "nbformat_minor": 5
}
